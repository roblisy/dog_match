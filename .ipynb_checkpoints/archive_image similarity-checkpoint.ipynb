{
 "cells": [
  {
   "cell_type": "markdown",
   "metadata": {},
   "source": [
    "### Image similarity\n",
    "\n",
    "Going through this example:\n",
    "* http://blog.ethanrosenthal.com/2016/12/05/recasketch-keras/"
   ]
  },
  {
   "cell_type": "code",
   "execution_count": 1,
   "metadata": {
    "scrolled": true
   },
   "outputs": [
    {
     "name": "stderr",
     "output_type": "stream",
     "text": [
      "/home/ec2-user/anaconda3/envs/tensorflow_p36/lib/python3.6/site-packages/h5py/__init__.py:36: FutureWarning: Conversion of the second argument of issubdtype from `float` to `np.floating` is deprecated. In future, it will be treated as `np.float64 == np.dtype(float).type`.\n",
      "  from ._conv import register_converters as _register_converters\n",
      "Using TensorFlow backend.\n"
     ]
    }
   ],
   "source": [
    "import csv\n",
    "import sys\n",
    "import requests\n",
    "from skimage import data, io, filters\n",
    "import os\n",
    "import glob\n",
    "import pickle\n",
    "import time\n",
    "\n",
    "from IPython.display import display, Image, HTML\n",
    "from keras.applications import VGG16\n",
    "from keras.applications.vgg16 import preprocess_input\n",
    "from keras.preprocessing import image as kimage\n",
    "import numpy as np\n",
    "import pandas as pd\n",
    "import scipy.sparse as sp\n",
    "import skimage.io\n",
    "\n",
    "sys.path.append('../')\n",
    "#import helpers"
   ]
  },
  {
   "cell_type": "code",
   "execution_count": 2,
   "metadata": {},
   "outputs": [
    {
     "data": {
      "image/jpeg": "[encoded data removed]",
      "text/plain": [
       "<IPython.core.display.Image object>"
      ]
     },
     "execution_count": 2,
     "metadata": {},
     "output_type": "execute_result"
    }
   ],
   "source": [
    "# show a random image and it's dimensions\n",
    "# we're using the test image subset uploaded to the EC2\n",
    "rand_img = np.random.choice(glob.glob('../image_similarity/images/*.jpg'))\n",
    "Image(filename=rand_img)\n"
   ]
  },
  {
   "cell_type": "code",
   "execution_count": 3,
   "metadata": {},
   "outputs": [
    {
     "data": {
      "text/plain": [
       "(453, 250, 3)"
      ]
     },
     "execution_count": 3,
     "metadata": {},
     "output_type": "execute_result"
    }
   ],
   "source": [
    "img = skimage.io.imread(rand_img)\n",
    "img.shape"
   ]
  },
  {
   "cell_type": "markdown",
   "metadata": {},
   "source": [
    "#### Pre processing steps\n",
    "\n",
    "* images resized to 224x224\n",
    "* color channels get normalized\n",
    "* add extra dimension b/c Keras is expecting to receive multiple models\n"
   ]
  },
  {
   "cell_type": "code",
   "execution_count": 4,
   "metadata": {},
   "outputs": [
    {
     "name": "stdout",
     "output_type": "stream",
     "text": [
      "(1, 224, 224, 3)\n"
     ]
    }
   ],
   "source": [
    "img = kimage.load_img(rand_img, target_size=(224, 224))\n",
    "x = kimage.img_to_array(img)\n",
    "x = np.expand_dims(x, axis=0)\n",
    "x = preprocess_input(x)\n",
    "print(x.shape)"
   ]
  },
  {
   "cell_type": "markdown",
   "metadata": {},
   "source": [
    "### Load the model and pass the image through"
   ]
  },
  {
   "cell_type": "code",
   "execution_count": 5,
   "metadata": {},
   "outputs": [],
   "source": [
    "# image_top=False removes final connected layers\n",
    "model = VGG16(include_top=False, weights='imagenet')"
   ]
  },
  {
   "cell_type": "code",
   "execution_count": 6,
   "metadata": {},
   "outputs": [
    {
     "name": "stdout",
     "output_type": "stream",
     "text": [
      "(1, 7, 7, 512)\n",
      "(25088,)\n"
     ]
    }
   ],
   "source": [
    "pred = model.predict(x)\n",
    "print(pred.shape)\n",
    "print(pred.ravel().shape)"
   ]
  },
  {
   "cell_type": "code",
   "execution_count": 36,
   "metadata": {},
   "outputs": [
    {
     "name": "stdout",
     "output_type": "stream",
     "text": [
      "125 ms ± 240 µs per loop (mean ± std. dev. of 7 runs, 10 loops each)\n"
     ]
    }
   ],
   "source": [
    "# Time 10 runs of the model. Just for illustration purposes.\n",
    "# %%timeit -n10\n",
    "# pred = model.predict(x)"
   ]
  },
  {
   "cell_type": "markdown",
   "metadata": {},
   "source": [
    "## Load images and feed them through the neural network.\n",
    "\n",
    "\n",
    "### ?????????\n",
    "This step assumes an the below code is run, generating a set of model IDs to keep.\n",
    "\n",
    "df = pd.read_csv('../data/model_likes_anon.psv',\n",
    "                 sep='|', quoting=csv.QUOTE_MINIMAL,\n",
    "                 quotechar='\\\\')\n",
    "df.drop_duplicates(inplace=True)\n",
    "df = helpers.threshold_interactions_df(df, 'uid', 'mid', 5, 5)\n",
    "\n",
    "\n",
    "valid_mids = set(df.mid.unique())\n",
    "\n",
    "### ??????????"
   ]
  },
  {
   "cell_type": "code",
   "execution_count": 10,
   "metadata": {},
   "outputs": [
    {
     "name": "stdout",
     "output_type": "stream",
     "text": [
      "<built-in method view of numpy.ndarray object at 0x7f3ca0d8f580>\n"
     ]
    }
   ],
   "source": [
    "preds = sp.lil_matrix((len(fnames),))"
   ]
  },
  {
   "cell_type": "code",
   "execution_count": 8,
   "metadata": {},
   "outputs": [
    {
     "ename": "NameError",
     "evalue": "name 'n_dims' is not defined",
     "output_type": "error",
     "traceback": [
      "\u001b[0;31m---------------------------------------------------------------------------\u001b[0m",
      "\u001b[0;31mNameError\u001b[0m                                 Traceback (most recent call last)",
      "\u001b[0;32m<ipython-input-8-bd56c695b381>\u001b[0m in \u001b[0;36m<module>\u001b[0;34m()\u001b[0m\n\u001b[1;32m     17\u001b[0m \u001b[0;34m\u001b[0m\u001b[0m\n\u001b[1;32m     18\u001b[0m \u001b[0;31m# Initialize predictions matrix\u001b[0m\u001b[0;34m\u001b[0m\u001b[0;34m\u001b[0m\u001b[0m\n\u001b[0;32m---> 19\u001b[0;31m \u001b[0mpreds\u001b[0m \u001b[0;34m=\u001b[0m \u001b[0msp\u001b[0m\u001b[0;34m.\u001b[0m\u001b[0mlil_matrix\u001b[0m\u001b[0;34m(\u001b[0m\u001b[0;34m(\u001b[0m\u001b[0mlen\u001b[0m\u001b[0;34m(\u001b[0m\u001b[0mfnames\u001b[0m\u001b[0;34m)\u001b[0m\u001b[0;34m,\u001b[0m \u001b[0mn_dims\u001b[0m\u001b[0;34m)\u001b[0m\u001b[0;34m)\u001b[0m\u001b[0;34m\u001b[0m\u001b[0m\n\u001b[0m\u001b[1;32m     20\u001b[0m \u001b[0;34m\u001b[0m\u001b[0m\n\u001b[1;32m     21\u001b[0m \u001b[0mn_dims\u001b[0m \u001b[0;34m=\u001b[0m \u001b[0mpreds\u001b[0m\u001b[0;34m.\u001b[0m\u001b[0mravel\u001b[0m\u001b[0;34m(\u001b[0m\u001b[0;34m)\u001b[0m\u001b[0;34m.\u001b[0m\u001b[0mshape\u001b[0m\u001b[0;34m[\u001b[0m\u001b[0;36m0\u001b[0m\u001b[0;34m]\u001b[0m\u001b[0;34m\u001b[0m\u001b[0m\n",
      "\u001b[0;31mNameError\u001b[0m: name 'n_dims' is not defined"
     ]
    }
   ],
   "source": [
    "# Trying one line at a time to load my data and not the tutorial.\n",
    "\n",
    "# little function to work with underscores in file names... probably not necessary.\n",
    "get_mid = lambda x: x.split(os.path.sep)[-1].split('_')[0]\n",
    "\n",
    "# read in the file names from the dir.\n",
    "fnames = glob.glob('../image_similarity/images/*.jpg')\n",
    "# another relic of the tutorial where they were filtering out images. probably not necessary.\n",
    "fnames = [f for f in fnames]\n",
    "\n",
    "\n",
    "idx_to_mid = {}\n",
    "batch_size = 500\n",
    "min_idx = 0\n",
    "max_idx = min_idx + batch_size\n",
    "total_max = len(fnames)\n",
    "n_dims = preds.ravel().shape[0]\n",
    "px = 224\n"
   ]
  },
  {
   "cell_type": "code",
   "execution_count": null,
   "metadata": {},
   "outputs": [],
   "source": [
    "# Grab relevant filenames\n",
    "get_mid = lambda x: x.split(os.path.sep)[-1].split('_')[0]\n",
    "fnames = glob.glob('../data/model_thumbs/*_thumb200.jpg')\n",
    "fnames = [f for f in fnames if get_mid(f) in valid_mids]\n",
    "\n",
    "idx_to_mid = {}\n",
    "batch_size = 500\n",
    "min_idx = 0\n",
    "max_idx = min_idx + batch_size\n",
    "total_max = len(fnames)\n",
    "n_dims = preds.ravel().shape[0]\n",
    "px = 224\n",
    "\n",
    "# Initialize predictions matrix\n",
    "preds = sp.lil_matrix((len(fnames), n_dims))\n",
    "\n",
    "while min_idx < total_max - 1:\n",
    "    t0 = time.time()\n",
    "    \n",
    "    X = np.zeros(((max_idx - min_idx), px, px, 3))\n",
    "    \n",
    "    # For each file in batch, \n",
    "    # load as row into X\n",
    "    for i in range(min_idx, max_idx):\n",
    "        fname = fnames[i]\n",
    "        mid = get_mid(fname)\n",
    "        idx_to_mid[i] = mid\n",
    "        img = image.load_img(fname, target_size=(px, px))\n",
    "        img_array = image.img_to_array(img)\n",
    "        X[i - min_idx, :, :, :] = img_array\n",
    "        if i % 200 == 0 and i != 0:\n",
    "            t1 = time.time()\n",
    "            print('{}: {}'.format(i, (t1 - t0) / i))\n",
    "            t0 = time.time()\n",
    "    max_idx = i\n",
    "    t1 = time.time()\n",
    "    print('{}: {}'.format(i, (t1 - t0) / i))\n",
    "    \n",
    "    print('Preprocess input')\n",
    "    t0 = time.time()\n",
    "    X = preprocess_input(X)\n",
    "    t1 = time.time()\n",
    "    print('{}'.format(t1 - t0))\n",
    "    \n",
    "    print('Predicting')\n",
    "    t0 = time.time()\n",
    "    these_preds = model.predict(X)\n",
    "    shp = ((max_idx - min_idx) + 1, n_dims)\n",
    "    \n",
    "    # Place predictions inside full preds matrix.\n",
    "    preds[min_idx:max_idx + 1, :] = these_preds.reshape(shp)\n",
    "    t1 = time.time()\n",
    "    print('{}'.format(t1 - t0))\n",
    "    \n",
    "    min_idx = max_idx\n",
    "    max_idx = np.min((max_idx + batch_size, total_max))"
   ]
  }
 ],
 "metadata": {
  "kernelspec": {
   "display_name": "Python 3",
   "language": "python",
   "name": "python3"
  },
  "language_info": {
   "codemirror_mode": {
    "name": "ipython",
    "version": 3
   },
   "file_extension": ".py",
   "mimetype": "text/x-python",
   "name": "python",
   "nbconvert_exporter": "python",
   "pygments_lexer": "ipython3",
   "version": "3.6.6"
  }
 },
 "nbformat": 4,
 "nbformat_minor": 2
}
